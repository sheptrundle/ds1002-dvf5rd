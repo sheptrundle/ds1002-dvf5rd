{
  "nbformat": 4,
  "nbformat_minor": 0,
  "metadata": {
    "colab": {
      "provenance": [],
      "authorship_tag": "ABX9TyPS0LtrzBaEMTHhnPXHpfh9",
      "include_colab_link": true
    },
    "kernelspec": {
      "name": "python3",
      "display_name": "Python 3"
    },
    "language_info": {
      "name": "python"
    }
  },
  "cells": [
    {
      "cell_type": "markdown",
      "metadata": {
        "id": "view-in-github",
        "colab_type": "text"
      },
      "source": [
        "<a href=\"https://colab.research.google.com/github/sheptrundle/ds1002-dvf5rd/blob/main/Untitled0.ipynb\" target=\"_parent\"><img src=\"https://colab.research.google.com/assets/colab-badge.svg\" alt=\"Open In Colab\"/></a>"
      ]
    },
    {
      "cell_type": "code",
      "execution_count": 4,
      "metadata": {
        "id": "kDwZKPzfO4Wm"
      },
      "outputs": [],
      "source": [
        "import numpy as np\n",
        "import pandas as pd\n",
        "import matplotlib.pyplot as plt\n",
        "%matplotlib inline"
      ]
    },
    {
      "cell_type": "code",
      "source": [
        "#import mockaroo file\n",
        "mock_data = pd.read_csv('MOCK_DATA.csv')"
      ],
      "metadata": {
        "id": "PpLAC3HDPfbD"
      },
      "execution_count": 8,
      "outputs": []
    },
    {
      "cell_type": "code",
      "source": [
        "mock_data.info()"
      ],
      "metadata": {
        "colab": {
          "base_uri": "https://localhost:8080/"
        },
        "id": "dSCd6xYFQ8bC",
        "outputId": "bda42c90-3158-4574-9343-750d21ce7d39"
      },
      "execution_count": 9,
      "outputs": [
        {
          "output_type": "stream",
          "name": "stdout",
          "text": [
            "<class 'pandas.core.frame.DataFrame'>\n",
            "RangeIndex: 1000 entries, 0 to 999\n",
            "Data columns (total 6 columns):\n",
            " #   Column      Non-Null Count  Dtype \n",
            "---  ------      --------------  ----- \n",
            " 0   id          1000 non-null   int64 \n",
            " 1   first_name  1000 non-null   object\n",
            " 2   last_name   1000 non-null   object\n",
            " 3   email       1000 non-null   object\n",
            " 4   gender      1000 non-null   object\n",
            " 5   age         1000 non-null   int64 \n",
            "dtypes: int64(2), object(4)\n",
            "memory usage: 47.0+ KB\n"
          ]
        }
      ]
    },
    {
      "cell_type": "code",
      "source": [
        "mock_data.index"
      ],
      "metadata": {
        "colab": {
          "base_uri": "https://localhost:8080/"
        },
        "id": "_8hA7ZQkRxQV",
        "outputId": "967e29b7-1b51-4c71-de1a-14b89355c97d"
      },
      "execution_count": 10,
      "outputs": [
        {
          "output_type": "execute_result",
          "data": {
            "text/plain": [
              "RangeIndex(start=0, stop=1000, step=1)"
            ]
          },
          "metadata": {},
          "execution_count": 10
        }
      ]
    },
    {
      "cell_type": "code",
      "source": [
        "mock_data.loc[930]"
      ],
      "metadata": {
        "colab": {
          "base_uri": "https://localhost:8080/"
        },
        "id": "GknIAoy_S3fN",
        "outputId": "772c6af6-ad4f-4b56-94f2-f4cb82db02c6"
      },
      "execution_count": 27,
      "outputs": [
        {
          "output_type": "execute_result",
          "data": {
            "text/plain": [
              "id                                  931\n",
              "first_name                        Howie\n",
              "last_name                       Village\n",
              "email         hvillagepu@washington.edu\n",
              "gender                             Male\n",
              "age                                  45\n",
              "Name: 930, dtype: object"
            ]
          },
          "metadata": {},
          "execution_count": 27
        }
      ]
    },
    {
      "cell_type": "code",
      "source": [
        "mock_data = mock_data.rename(columns={'first_name':'fname','last_name':'lname'})\n",
        "mock_data.head()"
      ],
      "metadata": {
        "id": "CexNvV3DTbM-"
      },
      "execution_count": null,
      "outputs": []
    },
    {
      "cell_type": "code",
      "source": [
        "mock_data.fname"
      ],
      "metadata": {
        "id": "0iHg6XfcVtf5"
      },
      "execution_count": null,
      "outputs": []
    },
    {
      "cell_type": "code",
      "source": [
        "mock_data[['fname','lname']]"
      ],
      "metadata": {
        "id": "wyWbFP7yWN9I"
      },
      "execution_count": null,
      "outputs": []
    },
    {
      "cell_type": "code",
      "source": [
        "pd.value_counts(mock_data['gender']).plot.bar()"
      ],
      "metadata": {
        "colab": {
          "base_uri": "https://localhost:8080/",
          "height": 527
        },
        "id": "hFjkdkFeWkOY",
        "outputId": "a925320a-ee7c-4a27-c552-145eacbb53b9"
      },
      "execution_count": 44,
      "outputs": [
        {
          "output_type": "execute_result",
          "data": {
            "text/plain": [
              "<Axes: >"
            ]
          },
          "metadata": {},
          "execution_count": 44
        },
        {
          "output_type": "display_data",
          "data": {
            "text/plain": [
              "<Figure size 640x480 with 1 Axes>"
            ],
            "image/png": "[encoded data removed]"
          },
          "metadata": {}
        }
      ]
    },
    {
      "cell_type": "code",
      "source": [
        "mock_data.groupby(['gender'])['age'].mean()"
      ],
      "metadata": {
        "colab": {
          "base_uri": "https://localhost:8080/"
        },
        "id": "q7U9L3BBXeNP",
        "outputId": "54ff19bd-e360-446c-d880-9ae2228c0e41"
      },
      "execution_count": 45,
      "outputs": [
        {
          "output_type": "execute_result",
          "data": {
            "text/plain": [
              "gender\n",
              "Agender        32.583333\n",
              "Bigender       43.850000\n",
              "Female         45.395010\n",
              "Genderfluid    45.300000\n",
              "Genderqueer    52.333333\n",
              "Male           44.571084\n",
              "Non-binary     41.952381\n",
              "Polygender     45.769231\n",
              "Name: age, dtype: float64"
            ]
          },
          "metadata": {},
          "execution_count": 45
        }
      ]
    }
  ]
}