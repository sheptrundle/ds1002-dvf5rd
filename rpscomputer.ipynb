{
  "nbformat": 4,
  "nbformat_minor": 0,
  "metadata": {
    "colab": {
      "provenance": [],
      "authorship_tag": "ABX9TyOcTlw7zerQFKaMGb6ibQQH",
      "include_colab_link": true
    },
    "kernelspec": {
      "name": "python3",
      "display_name": "Python 3"
    },
    "language_info": {
      "name": "python"
    }
  },
  "cells": [
    {
      "cell_type": "markdown",
      "metadata": {
        "id": "view-in-github",
        "colab_type": "text"
      },
      "source": [
        "<a href=\"https://colab.research.google.com/github/sheptrundle/ds1002-dvf5rd/blob/main/rpscomputer.ipynb\" target=\"_parent\"><img src=\"https://colab.research.google.com/assets/colab-badge.svg\" alt=\"Open In Colab\"/></a>"
      ]
    },
    {
      "cell_type": "code",
      "execution_count": 1,
      "metadata": {
        "id": "D_6feSMzdWkG"
      },
      "outputs": [],
      "source": [
        "from random import randint"
      ]
    },
    {
      "cell_type": "code",
      "source": [
        "t = ['rock','paper','scissors']\n",
        "computer = t[randint(0,2)]\n",
        "\n",
        "player = input('Player Throw: ').lower()\n",
        "\n",
        "print('Computer Throw: ' + computer)\n",
        "\n",
        "if computer == player:\n",
        "  print('Tie')\n",
        "elif (computer == 'rock' and player == 'scissors') or (computer == 'paper' and player == 'rock') or (computer == 'scissors' and player == 'paper'):\n",
        "  print('Computer Wins')\n",
        "elif (player == 'rock' and computer == 'scissors') or (player == 'paper' and computer == 'rock') or (player == 'scissors' and computer == 'paper'):\n",
        "  print('Player Wins')\n",
        "else:\n",
        "  print('Fail. Please throw \"rock\", \"paper\", or \"scissors\"')"
      ],
      "metadata": {
        "colab": {
          "base_uri": "https://localhost:8080/"
        },
        "id": "CZxpfKGed0Zv",
        "outputId": "aca2559e-86be-4e1f-d71f-ab3357ca78c1"
      },
      "execution_count": 23,
      "outputs": [
        {
          "output_type": "stream",
          "name": "stdout",
          "text": [
            "Player Throw: rock\n",
            "Computer Throw: rock\n",
            "Tie\n"
          ]
        }
      ]
    }
  ]
}