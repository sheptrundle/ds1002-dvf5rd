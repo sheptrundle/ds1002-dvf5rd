{
  "nbformat": 4,
  "nbformat_minor": 0,
  "metadata": {
    "colab": {
      "provenance": [],
      "include_colab_link": true
    },
    "kernelspec": {
      "name": "ir",
      "display_name": "R"
    },
    "language_info": {
      "name": "R"
    }
  },
  "cells": [
    {
      "cell_type": "markdown",
      "metadata": {
        "id": "view-in-github",
        "colab_type": "text"
      },
      "source": [
        "<a href=\"https://colab.research.google.com/github/sheptrundle/ds1002-dvf5rd/blob/main/homework/week-13.ipynb\" target=\"_parent\"><img src=\"https://colab.research.google.com/assets/colab-badge.svg\" alt=\"Open In Colab\"/></a>"
      ]
    },
    {
      "cell_type": "markdown",
      "source": [
        "# Homework - Week 13\n",
        "\n",
        "Complete the following blocks as specified in the directions. Run each cell to return the desired output. Save your notebook back to your GitHub repository and submit the GitHub URL to your notebook for review."
      ],
      "metadata": {
        "id": "sZruw3XQogej"
      }
    },
    {
      "cell_type": "markdown",
      "source": [
        "## 1. Change Runtime to R (1 pt)\n",
        "\n",
        "Change the runtime of this notebook to R. You can verify that you are running R by displaying the current version you are running. Run the cell below and show the output."
      ],
      "metadata": {
        "id": "KmpG99aAokL9"
      }
    },
    {
      "cell_type": "code",
      "execution_count": null,
      "metadata": {
        "id": "k03Z1NKAoZrW"
      },
      "outputs": [],
      "source": [
        "version"
      ]
    },
    {
      "cell_type": "markdown",
      "source": [
        "## 2. Create Vectors (2 pts)\n",
        "\n",
        "Create two vectors in the cells below, according to the prompts given."
      ],
      "metadata": {
        "id": "lkaofBQypx1X"
      }
    },
    {
      "cell_type": "code",
      "source": [
        "# create a vector with 7 integer values. Assign it to a variable named \"my_integers\"\n",
        "my_integers <- c(1, 2, 3, 4, 5, 6, 7)"
      ],
      "metadata": {
        "id": "1fjq5bkEp6Zv"
      },
      "execution_count": 5,
      "outputs": []
    },
    {
      "cell_type": "code",
      "source": [
        "var1 = 8\n",
        "var2 = 4\n",
        "var3 = 12\n",
        "var4 = 25\n",
        "\n",
        "# Using the variables given above, assign three new variables the following calculated values:\n",
        "#\n",
        "# 1. Your first variable should be assigned the calculated value of var2 divided by var1.\n",
        "# 2. Your second variable should be assigned the calculated value of var2 cubed times var3.\n",
        "# 3. Your third variable should be assigned the calculated value of var4 integer divided by var3.\n",
        "#\n",
        "# Next, create an array populated by your three variables. Assign the array to a new variable named \"my_calculated_values\"\n",
        "\n",
        "first <- var2/var1\n",
        "second <- (var2 ** 3) * var3\n",
        "third <- var4 %/% var3\n",
        "\n",
        "my_calculated_values <- c(first, second, third)\n",
        "print(my_calculated_values)"
      ],
      "metadata": {
        "id": "f3IFD-T6p6Rd"
      },
      "execution_count": null,
      "outputs": []
    },
    {
      "cell_type": "markdown",
      "source": [
        "## 3. Vector Indexes (3 pts)"
      ],
      "metadata": {
        "id": "F6Rx0GIGrpOB"
      }
    },
    {
      "cell_type": "markdown",
      "source": [
        "In the cell below, create a vector that starts with the integer 4, that increments by counts of 3 all the way to 28.\n",
        "\n",
        "Assign the vector to a variable name."
      ],
      "metadata": {
        "id": "IDLyOjOJsFCX"
      }
    },
    {
      "cell_type": "code",
      "source": [
        "#\n",
        "myvec <- seq(4,28,3)\n",
        "myvec"
      ],
      "metadata": {
        "id": "0D5Ia-BPsoPZ",
        "outputId": "85a041f1-5a01-4eeb-d60f-45e240918968",
        "colab": {
          "base_uri": "https://localhost:8080/",
          "height": 34
        }
      },
      "execution_count": 48,
      "outputs": [
        {
          "output_type": "display_data",
          "data": {
            "text/html": [
              "<style>\n",
              ".list-inline {list-style: none; margin:0; padding: 0}\n",
              ".list-inline>li {display: inline-block}\n",
              ".list-inline>li:not(:last-child)::after {content: \"\\00b7\"; padding: 0 .5ex}\n",
              "</style>\n",
              "<ol class=list-inline><li>4</li><li>7</li><li>10</li><li>13</li><li>16</li><li>19</li><li>22</li><li>25</li><li>28</li></ol>\n"
            ],
            "text/markdown": "1. 4\n2. 7\n3. 10\n4. 13\n5. 16\n6. 19\n7. 22\n8. 25\n9. 28\n\n\n",
            "text/latex": "\\begin{enumerate*}\n\\item 4\n\\item 7\n\\item 10\n\\item 13\n\\item 16\n\\item 19\n\\item 22\n\\item 25\n\\item 28\n\\end{enumerate*}\n",
            "text/plain": [
              "[1]  4  7 10 13 16 19 22 25 28"
            ]
          },
          "metadata": {}
        }
      ]
    },
    {
      "cell_type": "markdown",
      "source": [
        "Next, show how to display this vector with the 3 index removed."
      ],
      "metadata": {
        "id": "RxFRiRMvtfXI"
      }
    },
    {
      "cell_type": "code",
      "source": [
        "#\n",
        "myvec[-3]"
      ],
      "metadata": {
        "id": "MBg7V1LztQlv",
        "outputId": "9b2d9c3e-2a26-4642-85f7-a733c11ea3eb",
        "colab": {
          "base_uri": "https://localhost:8080/",
          "height": 34
        }
      },
      "execution_count": 49,
      "outputs": [
        {
          "output_type": "display_data",
          "data": {
            "text/html": [
              "<style>\n",
              ".list-inline {list-style: none; margin:0; padding: 0}\n",
              ".list-inline>li {display: inline-block}\n",
              ".list-inline>li:not(:last-child)::after {content: \"\\00b7\"; padding: 0 .5ex}\n",
              "</style>\n",
              "<ol class=list-inline><li>4</li><li>7</li><li>13</li><li>16</li><li>19</li><li>22</li><li>25</li><li>28</li></ol>\n"
            ],
            "text/markdown": "1. 4\n2. 7\n3. 13\n4. 16\n5. 19\n6. 22\n7. 25\n8. 28\n\n\n",
            "text/latex": "\\begin{enumerate*}\n\\item 4\n\\item 7\n\\item 13\n\\item 16\n\\item 19\n\\item 22\n\\item 25\n\\item 28\n\\end{enumerate*}\n",
            "text/plain": [
              "[1]  4  7 13 16 19 22 25 28"
            ]
          },
          "metadata": {}
        }
      ]
    },
    {
      "cell_type": "markdown",
      "source": [
        "Finally, show how to delete the 4th, 5th, and 7th indexes from the vector and update the vector so they are forever removed from the vector.\n",
        "\n",
        "Hint: there is a fairly simple way to do this in one line, such that you don't have to run a separate command for each removal."
      ],
      "metadata": {
        "id": "Rmci-rVCtq-C"
      }
    },
    {
      "cell_type": "code",
      "source": [
        "#\n",
        "myvec <- myvec[c(TRUE, TRUE, TRUE, FALSE, FALSE, TRUE, FALSE, TRUE, TRUE)]"
      ],
      "metadata": {
        "id": "y1k0NHNruFX2"
      },
      "execution_count": 50,
      "outputs": []
    },
    {
      "cell_type": "markdown",
      "source": [
        "## 4. Create a Data Frame (3 pts)\n",
        "\n",
        "In the cell below create a data frame with 10 observations (rows) and 5 variables (columns) each. This data frame will describe some of your favorite musical performers. You can use real or fictitious data to populate your data frame.\n",
        "\n",
        "Variables:\n",
        "  - `artist` - Artist or band name\n",
        "  - `category` - Rock, Pop, Country, Hip-hop, Jazz, Classical, Soul, Other. (Try to distribute your selections here)\n",
        "  - `size` - (number of members, 1-?)\n",
        "  - `start` - Debut year of artist.\n",
        "  - `grammy` - Grammmy winner? `TRUE` | `FALSE`\n",
        "\n",
        "First create vectors for each variable populated with your own performer data. Then create a data frame from these vectors (be sure to assign column names too) and assign it to a named variable such as `df`."
      ],
      "metadata": {
        "id": "-2ZaFcCCv3o8"
      }
    },
    {
      "cell_type": "code",
      "source": [
        "artist <- c('Beatles', 'Kanye West', 'Pink Floyd', 'Colter Wall', 'Fake Jazz Band', 'Foo Fighters', 'Metallica', 'The Strokes', 'Grateful Dead', 'BJM')\n",
        "category <- c('Rock', 'Rap', 'Rock', 'Country', 'Jazz', 'Rock', 'Metal', 'Alt Rock', 'Alt Rock', 'Modern Rock')\n",
        "size <- c(4, 1, 5, 1, 7, 6, 4, 5, 6, 7)\n",
        "#im making up the dates for start and values for grammy\n",
        "start <- c(1965, 2005, 1978, 2010, 1922, 1989, 1976, 2003, 1969, 1995)\n",
        "grammy <- c(TRUE, TRUE, TRUE, FALSE, FALSE, TRUE, TRUE, TRUE, TRUE, FALSE)\n",
        "\n",
        "music <- data.frame(Artist = artist, Category = category, Size = size, Start = start, Grammy = grammy)\n",
        "music"
      ],
      "metadata": {
        "id": "V4nBsdVsyauQ",
        "outputId": "02157d6d-6cdf-48a6-c54a-cbdcd864c63d",
        "colab": {
          "base_uri": "https://localhost:8080/",
          "height": 412
        }
      },
      "execution_count": 58,
      "outputs": [
        {
          "output_type": "display_data",
          "data": {
            "text/html": [
              "<table class=\"dataframe\">\n",
              "<caption>A data.frame: 10 × 5</caption>\n",
              "<thead>\n",
              "\t<tr><th scope=col>Artist</th><th scope=col>Category</th><th scope=col>Size</th><th scope=col>Start</th><th scope=col>Grammy</th></tr>\n",
              "\t<tr><th scope=col>&lt;chr&gt;</th><th scope=col>&lt;chr&gt;</th><th scope=col>&lt;dbl&gt;</th><th scope=col>&lt;dbl&gt;</th><th scope=col>&lt;lgl&gt;</th></tr>\n",
              "</thead>\n",
              "<tbody>\n",
              "\t<tr><td>Beatles       </td><td>Rock       </td><td>4</td><td>1965</td><td> TRUE</td></tr>\n",
              "\t<tr><td>Kanye West    </td><td>Rap        </td><td>1</td><td>2005</td><td> TRUE</td></tr>\n",
              "\t<tr><td>Pink Floyd    </td><td>Rock       </td><td>5</td><td>1978</td><td> TRUE</td></tr>\n",
              "\t<tr><td>Colter Wall   </td><td>Country    </td><td>1</td><td>2010</td><td>FALSE</td></tr>\n",
              "\t<tr><td>Fake Jazz Band</td><td>Jazz       </td><td>7</td><td>1922</td><td>FALSE</td></tr>\n",
              "\t<tr><td>Foo Fighters  </td><td>Rock       </td><td>6</td><td>1989</td><td> TRUE</td></tr>\n",
              "\t<tr><td>Metallica     </td><td>Metal      </td><td>4</td><td>1976</td><td> TRUE</td></tr>\n",
              "\t<tr><td>The Strokes   </td><td>Alt Rock   </td><td>5</td><td>2003</td><td> TRUE</td></tr>\n",
              "\t<tr><td>Grateful Dead </td><td>Alt Rock   </td><td>6</td><td>1969</td><td> TRUE</td></tr>\n",
              "\t<tr><td>BJM           </td><td>Modern Rock</td><td>7</td><td>1995</td><td>FALSE</td></tr>\n",
              "</tbody>\n",
              "</table>\n"
            ],
            "text/markdown": "\nA data.frame: 10 × 5\n\n| Artist &lt;chr&gt; | Category &lt;chr&gt; | Size &lt;dbl&gt; | Start &lt;dbl&gt; | Grammy &lt;lgl&gt; |\n|---|---|---|---|---|\n| Beatles        | Rock        | 4 | 1965 |  TRUE |\n| Kanye West     | Rap         | 1 | 2005 |  TRUE |\n| Pink Floyd     | Rock        | 5 | 1978 |  TRUE |\n| Colter Wall    | Country     | 1 | 2010 | FALSE |\n| Fake Jazz Band | Jazz        | 7 | 1922 | FALSE |\n| Foo Fighters   | Rock        | 6 | 1989 |  TRUE |\n| Metallica      | Metal       | 4 | 1976 |  TRUE |\n| The Strokes    | Alt Rock    | 5 | 2003 |  TRUE |\n| Grateful Dead  | Alt Rock    | 6 | 1969 |  TRUE |\n| BJM            | Modern Rock | 7 | 1995 | FALSE |\n\n",
            "text/latex": "A data.frame: 10 × 5\n\\begin{tabular}{lllll}\n Artist & Category & Size & Start & Grammy\\\\\n <chr> & <chr> & <dbl> & <dbl> & <lgl>\\\\\n\\hline\n\t Beatles        & Rock        & 4 & 1965 &  TRUE\\\\\n\t Kanye West     & Rap         & 1 & 2005 &  TRUE\\\\\n\t Pink Floyd     & Rock        & 5 & 1978 &  TRUE\\\\\n\t Colter Wall    & Country     & 1 & 2010 & FALSE\\\\\n\t Fake Jazz Band & Jazz        & 7 & 1922 & FALSE\\\\\n\t Foo Fighters   & Rock        & 6 & 1989 &  TRUE\\\\\n\t Metallica      & Metal       & 4 & 1976 &  TRUE\\\\\n\t The Strokes    & Alt Rock    & 5 & 2003 &  TRUE\\\\\n\t Grateful Dead  & Alt Rock    & 6 & 1969 &  TRUE\\\\\n\t BJM            & Modern Rock & 7 & 1995 & FALSE\\\\\n\\end{tabular}\n",
            "text/plain": [
              "   Artist         Category    Size Start Grammy\n",
              "1  Beatles        Rock        4    1965   TRUE \n",
              "2  Kanye West     Rap         1    2005   TRUE \n",
              "3  Pink Floyd     Rock        5    1978   TRUE \n",
              "4  Colter Wall    Country     1    2010  FALSE \n",
              "5  Fake Jazz Band Jazz        7    1922  FALSE \n",
              "6  Foo Fighters   Rock        6    1989   TRUE \n",
              "7  Metallica      Metal       4    1976   TRUE \n",
              "8  The Strokes    Alt Rock    5    2003   TRUE \n",
              "9  Grateful Dead  Alt Rock    6    1969   TRUE \n",
              "10 BJM            Modern Rock 7    1995  FALSE "
            ]
          },
          "metadata": {}
        }
      ]
    },
    {
      "cell_type": "markdown",
      "source": [
        "## 5. Filter/Query a Data Frame (2 pts)\n",
        "\n",
        "Use the data frame you created above and show how to perform the following queries."
      ],
      "metadata": {
        "id": "nG5m-FIRydNU"
      }
    },
    {
      "cell_type": "code",
      "source": [
        "# Display the first 3 records and only the `artist`, `category` and `grammy` columns for each.\n",
        "music[1:3, c('Artist','Category','Grammy')]"
      ],
      "metadata": {
        "id": "OlmbfFi6zSgR",
        "outputId": "050e0e3e-3a1c-4216-cae5-d7c06aa54010",
        "colab": {
          "base_uri": "https://localhost:8080/",
          "height": 192
        }
      },
      "execution_count": 69,
      "outputs": [
        {
          "output_type": "display_data",
          "data": {
            "text/html": [
              "<table class=\"dataframe\">\n",
              "<caption>A data.frame: 3 × 3</caption>\n",
              "<thead>\n",
              "\t<tr><th></th><th scope=col>Artist</th><th scope=col>Category</th><th scope=col>Grammy</th></tr>\n",
              "\t<tr><th></th><th scope=col>&lt;chr&gt;</th><th scope=col>&lt;chr&gt;</th><th scope=col>&lt;lgl&gt;</th></tr>\n",
              "</thead>\n",
              "<tbody>\n",
              "\t<tr><th scope=row>1</th><td>Beatles   </td><td>Rock</td><td>TRUE</td></tr>\n",
              "\t<tr><th scope=row>2</th><td>Kanye West</td><td>Rap </td><td>TRUE</td></tr>\n",
              "\t<tr><th scope=row>3</th><td>Pink Floyd</td><td>Rock</td><td>TRUE</td></tr>\n",
              "</tbody>\n",
              "</table>\n"
            ],
            "text/markdown": "\nA data.frame: 3 × 3\n\n| <!--/--> | Artist &lt;chr&gt; | Category &lt;chr&gt; | Grammy &lt;lgl&gt; |\n|---|---|---|---|\n| 1 | Beatles    | Rock | TRUE |\n| 2 | Kanye West | Rap  | TRUE |\n| 3 | Pink Floyd | Rock | TRUE |\n\n",
            "text/latex": "A data.frame: 3 × 3\n\\begin{tabular}{r|lll}\n  & Artist & Category & Grammy\\\\\n  & <chr> & <chr> & <lgl>\\\\\n\\hline\n\t1 & Beatles    & Rock & TRUE\\\\\n\t2 & Kanye West & Rap  & TRUE\\\\\n\t3 & Pink Floyd & Rock & TRUE\\\\\n\\end{tabular}\n",
            "text/plain": [
              "  Artist     Category Grammy\n",
              "1 Beatles    Rock     TRUE  \n",
              "2 Kanye West Rap      TRUE  \n",
              "3 Pink Floyd Rock     TRUE  "
            ]
          },
          "metadata": {}
        }
      ]
    },
    {
      "cell_type": "code",
      "source": [
        "# Display the records for just one musical category, such as only Rock bands or only Hip-hop bands.\n",
        "install.packages('tidyverse')\n",
        "library(tidyverse)\n",
        "\n",
        "music %>%\n",
        "  filter(Category == 'Rock')"
      ],
      "metadata": {
        "id": "-l_kpWSzzlhG",
        "outputId": "7b7a361c-b40f-4f11-d8be-c35c2d4c4e63",
        "colab": {
          "base_uri": "https://localhost:8080/",
          "height": 246
        }
      },
      "execution_count": 74,
      "outputs": [
        {
          "output_type": "stream",
          "name": "stderr",
          "text": [
            "Installing package into ‘/usr/local/lib/R/site-library’\n",
            "(as ‘lib’ is unspecified)\n",
            "\n"
          ]
        },
        {
          "output_type": "display_data",
          "data": {
            "text/html": [
              "<table class=\"dataframe\">\n",
              "<caption>A data.frame: 3 × 5</caption>\n",
              "<thead>\n",
              "\t<tr><th scope=col>Artist</th><th scope=col>Category</th><th scope=col>Size</th><th scope=col>Start</th><th scope=col>Grammy</th></tr>\n",
              "\t<tr><th scope=col>&lt;chr&gt;</th><th scope=col>&lt;chr&gt;</th><th scope=col>&lt;dbl&gt;</th><th scope=col>&lt;dbl&gt;</th><th scope=col>&lt;lgl&gt;</th></tr>\n",
              "</thead>\n",
              "<tbody>\n",
              "\t<tr><td>Beatles     </td><td>Rock</td><td>4</td><td>1965</td><td>TRUE</td></tr>\n",
              "\t<tr><td>Pink Floyd  </td><td>Rock</td><td>5</td><td>1978</td><td>TRUE</td></tr>\n",
              "\t<tr><td>Foo Fighters</td><td>Rock</td><td>6</td><td>1989</td><td>TRUE</td></tr>\n",
              "</tbody>\n",
              "</table>\n"
            ],
            "text/markdown": "\nA data.frame: 3 × 5\n\n| Artist &lt;chr&gt; | Category &lt;chr&gt; | Size &lt;dbl&gt; | Start &lt;dbl&gt; | Grammy &lt;lgl&gt; |\n|---|---|---|---|---|\n| Beatles      | Rock | 4 | 1965 | TRUE |\n| Pink Floyd   | Rock | 5 | 1978 | TRUE |\n| Foo Fighters | Rock | 6 | 1989 | TRUE |\n\n",
            "text/latex": "A data.frame: 3 × 5\n\\begin{tabular}{lllll}\n Artist & Category & Size & Start & Grammy\\\\\n <chr> & <chr> & <dbl> & <dbl> & <lgl>\\\\\n\\hline\n\t Beatles      & Rock & 4 & 1965 & TRUE\\\\\n\t Pink Floyd   & Rock & 5 & 1978 & TRUE\\\\\n\t Foo Fighters & Rock & 6 & 1989 & TRUE\\\\\n\\end{tabular}\n",
            "text/plain": [
              "  Artist       Category Size Start Grammy\n",
              "1 Beatles      Rock     4    1965  TRUE  \n",
              "2 Pink Floyd   Rock     5    1978  TRUE  \n",
              "3 Foo Fighters Rock     6    1989  TRUE  "
            ]
          },
          "metadata": {}
        }
      ]
    },
    {
      "cell_type": "markdown",
      "source": [
        "## Query a Data Frame using `tidyverse` (4 pts)\n",
        "\n",
        "1. Show how to load the library.\n",
        "2. Show how to glimpse basic features of the `starwars` data table.\n",
        "3. Create a query using tidyverse that retrieves the following data:\n",
        "    - Selects only these columns: `name`, `height`, `sex`, `species`.\n",
        "    - Filters for all species that are NOT Human.\n",
        "    - Arranges the resulting data in order by name.\n",
        "\n",
        "Show your output in a data frame."
      ],
      "metadata": {
        "id": "L-xnszjS0Byy"
      }
    },
    {
      "cell_type": "code",
      "source": [
        "install.packages('tidyverse')\n",
        "library(tidyverse)\n",
        "\n",
        "starwars[1:3 , 1:14]"
      ],
      "metadata": {
        "id": "61_IYyKsJRpg"
      },
      "execution_count": null,
      "outputs": []
    },
    {
      "cell_type": "code",
      "source": [
        "starwars %>%\n",
        "  select(name, height, sex, species) %>%\n",
        "  filter(species == 'Human')\n",
        "  arrange(name)\n",
        "#ive tried to figure out why the arrange by name function is not working but i do not understand it, it should be arranged by names as that is the same\n",
        "#code that i wrote in class with the titanic data and it worked fine for that\n",
        "\n"
      ],
      "metadata": {
        "id": "yTMLzrxS0F4u",
        "outputId": "463ed3fb-bd38-4544-e907-480381732241",
        "colab": {
          "base_uri": "https://localhost:8080/",
          "height": 1000
        }
      },
      "execution_count": 95,
      "outputs": [
        {
          "output_type": "display_data",
          "data": {
            "text/html": [
              "<table class=\"dataframe\">\n",
              "<caption>A tibble: 35 × 4</caption>\n",
              "<thead>\n",
              "\t<tr><th scope=col>name</th><th scope=col>height</th><th scope=col>sex</th><th scope=col>species</th></tr>\n",
              "\t<tr><th scope=col>&lt;chr&gt;</th><th scope=col>&lt;int&gt;</th><th scope=col>&lt;chr&gt;</th><th scope=col>&lt;chr&gt;</th></tr>\n",
              "</thead>\n",
              "<tbody>\n",
              "\t<tr><td>Luke Skywalker     </td><td>172</td><td>male  </td><td>Human</td></tr>\n",
              "\t<tr><td>Darth Vader        </td><td>202</td><td>male  </td><td>Human</td></tr>\n",
              "\t<tr><td>Leia Organa        </td><td>150</td><td>female</td><td>Human</td></tr>\n",
              "\t<tr><td>Owen Lars          </td><td>178</td><td>male  </td><td>Human</td></tr>\n",
              "\t<tr><td>Beru Whitesun lars </td><td>165</td><td>female</td><td>Human</td></tr>\n",
              "\t<tr><td>Biggs Darklighter  </td><td>183</td><td>male  </td><td>Human</td></tr>\n",
              "\t<tr><td>Obi-Wan Kenobi     </td><td>182</td><td>male  </td><td>Human</td></tr>\n",
              "\t<tr><td>Anakin Skywalker   </td><td>188</td><td>male  </td><td>Human</td></tr>\n",
              "\t<tr><td>Wilhuff Tarkin     </td><td>180</td><td>male  </td><td>Human</td></tr>\n",
              "\t<tr><td>Han Solo           </td><td>180</td><td>male  </td><td>Human</td></tr>\n",
              "\t<tr><td>Wedge Antilles     </td><td>170</td><td>male  </td><td>Human</td></tr>\n",
              "\t<tr><td>Jek Tono Porkins   </td><td>180</td><td>male  </td><td>Human</td></tr>\n",
              "\t<tr><td>Palpatine          </td><td>170</td><td>male  </td><td>Human</td></tr>\n",
              "\t<tr><td>Boba Fett          </td><td>183</td><td>male  </td><td>Human</td></tr>\n",
              "\t<tr><td>Lando Calrissian   </td><td>177</td><td>male  </td><td>Human</td></tr>\n",
              "\t<tr><td>Lobot              </td><td>175</td><td>male  </td><td>Human</td></tr>\n",
              "\t<tr><td>Mon Mothma         </td><td>150</td><td>female</td><td>Human</td></tr>\n",
              "\t<tr><td>Arvel Crynyd       </td><td> NA</td><td>male  </td><td>Human</td></tr>\n",
              "\t<tr><td>Qui-Gon Jinn       </td><td>193</td><td>male  </td><td>Human</td></tr>\n",
              "\t<tr><td>Finis Valorum      </td><td>170</td><td>male  </td><td>Human</td></tr>\n",
              "\t<tr><td>Shmi Skywalker     </td><td>163</td><td>female</td><td>Human</td></tr>\n",
              "\t<tr><td>Mace Windu         </td><td>188</td><td>male  </td><td>Human</td></tr>\n",
              "\t<tr><td>Gregar Typho       </td><td>185</td><td>male  </td><td>Human</td></tr>\n",
              "\t<tr><td>Cordé              </td><td>157</td><td>female</td><td>Human</td></tr>\n",
              "\t<tr><td>Cliegg Lars        </td><td>183</td><td>male  </td><td>Human</td></tr>\n",
              "\t<tr><td>Dormé              </td><td>165</td><td>female</td><td>Human</td></tr>\n",
              "\t<tr><td>Dooku              </td><td>193</td><td>male  </td><td>Human</td></tr>\n",
              "\t<tr><td>Bail Prestor Organa</td><td>191</td><td>male  </td><td>Human</td></tr>\n",
              "\t<tr><td>Jango Fett         </td><td>183</td><td>male  </td><td>Human</td></tr>\n",
              "\t<tr><td>Jocasta Nu         </td><td>167</td><td>female</td><td>Human</td></tr>\n",
              "\t<tr><td>Raymus Antilles    </td><td>188</td><td>male  </td><td>Human</td></tr>\n",
              "\t<tr><td>Finn               </td><td> NA</td><td>male  </td><td>Human</td></tr>\n",
              "\t<tr><td>Rey                </td><td> NA</td><td>female</td><td>Human</td></tr>\n",
              "\t<tr><td>Poe Dameron        </td><td> NA</td><td>male  </td><td>Human</td></tr>\n",
              "\t<tr><td>Padmé Amidala      </td><td>165</td><td>female</td><td>Human</td></tr>\n",
              "</tbody>\n",
              "</table>\n"
            ],
            "text/markdown": "\nA tibble: 35 × 4\n\n| name &lt;chr&gt; | height &lt;int&gt; | sex &lt;chr&gt; | species &lt;chr&gt; |\n|---|---|---|---|\n| Luke Skywalker      | 172 | male   | Human |\n| Darth Vader         | 202 | male   | Human |\n| Leia Organa         | 150 | female | Human |\n| Owen Lars           | 178 | male   | Human |\n| Beru Whitesun lars  | 165 | female | Human |\n| Biggs Darklighter   | 183 | male   | Human |\n| Obi-Wan Kenobi      | 182 | male   | Human |\n| Anakin Skywalker    | 188 | male   | Human |\n| Wilhuff Tarkin      | 180 | male   | Human |\n| Han Solo            | 180 | male   | Human |\n| Wedge Antilles      | 170 | male   | Human |\n| Jek Tono Porkins    | 180 | male   | Human |\n| Palpatine           | 170 | male   | Human |\n| Boba Fett           | 183 | male   | Human |\n| Lando Calrissian    | 177 | male   | Human |\n| Lobot               | 175 | male   | Human |\n| Mon Mothma          | 150 | female | Human |\n| Arvel Crynyd        |  NA | male   | Human |\n| Qui-Gon Jinn        | 193 | male   | Human |\n| Finis Valorum       | 170 | male   | Human |\n| Shmi Skywalker      | 163 | female | Human |\n| Mace Windu          | 188 | male   | Human |\n| Gregar Typho        | 185 | male   | Human |\n| Cordé               | 157 | female | Human |\n| Cliegg Lars         | 183 | male   | Human |\n| Dormé               | 165 | female | Human |\n| Dooku               | 193 | male   | Human |\n| Bail Prestor Organa | 191 | male   | Human |\n| Jango Fett          | 183 | male   | Human |\n| Jocasta Nu          | 167 | female | Human |\n| Raymus Antilles     | 188 | male   | Human |\n| Finn                |  NA | male   | Human |\n| Rey                 |  NA | female | Human |\n| Poe Dameron         |  NA | male   | Human |\n| Padmé Amidala       | 165 | female | Human |\n\n",
            "text/latex": "A tibble: 35 × 4\n\\begin{tabular}{llll}\n name & height & sex & species\\\\\n <chr> & <int> & <chr> & <chr>\\\\\n\\hline\n\t Luke Skywalker      & 172 & male   & Human\\\\\n\t Darth Vader         & 202 & male   & Human\\\\\n\t Leia Organa         & 150 & female & Human\\\\\n\t Owen Lars           & 178 & male   & Human\\\\\n\t Beru Whitesun lars  & 165 & female & Human\\\\\n\t Biggs Darklighter   & 183 & male   & Human\\\\\n\t Obi-Wan Kenobi      & 182 & male   & Human\\\\\n\t Anakin Skywalker    & 188 & male   & Human\\\\\n\t Wilhuff Tarkin      & 180 & male   & Human\\\\\n\t Han Solo            & 180 & male   & Human\\\\\n\t Wedge Antilles      & 170 & male   & Human\\\\\n\t Jek Tono Porkins    & 180 & male   & Human\\\\\n\t Palpatine           & 170 & male   & Human\\\\\n\t Boba Fett           & 183 & male   & Human\\\\\n\t Lando Calrissian    & 177 & male   & Human\\\\\n\t Lobot               & 175 & male   & Human\\\\\n\t Mon Mothma          & 150 & female & Human\\\\\n\t Arvel Crynyd        &  NA & male   & Human\\\\\n\t Qui-Gon Jinn        & 193 & male   & Human\\\\\n\t Finis Valorum       & 170 & male   & Human\\\\\n\t Shmi Skywalker      & 163 & female & Human\\\\\n\t Mace Windu          & 188 & male   & Human\\\\\n\t Gregar Typho        & 185 & male   & Human\\\\\n\t Cordé               & 157 & female & Human\\\\\n\t Cliegg Lars         & 183 & male   & Human\\\\\n\t Dormé               & 165 & female & Human\\\\\n\t Dooku               & 193 & male   & Human\\\\\n\t Bail Prestor Organa & 191 & male   & Human\\\\\n\t Jango Fett          & 183 & male   & Human\\\\\n\t Jocasta Nu          & 167 & female & Human\\\\\n\t Raymus Antilles     & 188 & male   & Human\\\\\n\t Finn                &  NA & male   & Human\\\\\n\t Rey                 &  NA & female & Human\\\\\n\t Poe Dameron         &  NA & male   & Human\\\\\n\t Padmé Amidala       & 165 & female & Human\\\\\n\\end{tabular}\n",
            "text/plain": [
              "   name                height sex    species\n",
              "1  Luke Skywalker      172    male   Human  \n",
              "2  Darth Vader         202    male   Human  \n",
              "3  Leia Organa         150    female Human  \n",
              "4  Owen Lars           178    male   Human  \n",
              "5  Beru Whitesun lars  165    female Human  \n",
              "6  Biggs Darklighter   183    male   Human  \n",
              "7  Obi-Wan Kenobi      182    male   Human  \n",
              "8  Anakin Skywalker    188    male   Human  \n",
              "9  Wilhuff Tarkin      180    male   Human  \n",
              "10 Han Solo            180    male   Human  \n",
              "11 Wedge Antilles      170    male   Human  \n",
              "12 Jek Tono Porkins    180    male   Human  \n",
              "13 Palpatine           170    male   Human  \n",
              "14 Boba Fett           183    male   Human  \n",
              "15 Lando Calrissian    177    male   Human  \n",
              "16 Lobot               175    male   Human  \n",
              "17 Mon Mothma          150    female Human  \n",
              "18 Arvel Crynyd         NA    male   Human  \n",
              "19 Qui-Gon Jinn        193    male   Human  \n",
              "20 Finis Valorum       170    male   Human  \n",
              "21 Shmi Skywalker      163    female Human  \n",
              "22 Mace Windu          188    male   Human  \n",
              "23 Gregar Typho        185    male   Human  \n",
              "24 Cordé               157    female Human  \n",
              "25 Cliegg Lars         183    male   Human  \n",
              "26 Dormé               165    female Human  \n",
              "27 Dooku               193    male   Human  \n",
              "28 Bail Prestor Organa 191    male   Human  \n",
              "29 Jango Fett          183    male   Human  \n",
              "30 Jocasta Nu          167    female Human  \n",
              "31 Raymus Antilles     188    male   Human  \n",
              "32 Finn                 NA    male   Human  \n",
              "33 Rey                  NA    female Human  \n",
              "34 Poe Dameron          NA    male   Human  \n",
              "35 Padmé Amidala       165    female Human  "
            ]
          },
          "metadata": {}
        },
        {
          "output_type": "error",
          "ename": "ERROR",
          "evalue": "ignored",
          "traceback": [
            "Error in eval(expr, envir, enclos): object 'name' not found\nTraceback:\n",
            "1. arrange(name)"
          ]
        }
      ]
    }
  ]
}