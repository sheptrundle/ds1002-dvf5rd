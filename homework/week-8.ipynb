{
  "nbformat": 4,
  "nbformat_minor": 0,
  "metadata": {
    "colab": {
      "provenance": [],
      "include_colab_link": true
    },
    "kernelspec": {
      "name": "python3",
      "display_name": "Python 3"
    },
    "language_info": {
      "name": "python"
    }
  },
  "cells": [
    {
      "cell_type": "markdown",
      "metadata": {
        "id": "view-in-github",
        "colab_type": "text"
      },
      "source": [
        "<a href=\"https://colab.research.google.com/github/sheptrundle/ds1002-dvf5rd/blob/main/homework/week-8.ipynb\" target=\"_parent\"><img src=\"https://colab.research.google.com/assets/colab-badge.svg\" alt=\"Open In Colab\"/></a>"
      ]
    },
    {
      "cell_type": "markdown",
      "source": [
        "## While-Loops\n",
        "\n",
        "Perform the following steps in code:\n",
        "1. Define a variable and populate it with `0`.\n",
        "2. Create a while statement that evaluates whether that variable is less than or equal to `20`.\n",
        "3. Within the while loop evaluate if the variable value is even or odd.\n",
        "4. Within the while loop, if the variable value is even, print it. If not, do not print it.\n",
        "5. Within the while loop, finally add `1` to the variable before it repeats."
      ],
      "metadata": {
        "id": "But1V5T5qWJG"
      }
    },
    {
      "cell_type": "code",
      "source": [
        "# code here\n",
        "x = 0\n",
        "while x <= 20:\n",
        "  if x % 2 == 0:\n",
        "    print(x)\n",
        "  x += 1"
      ],
      "metadata": {
        "id": "GyQTkbqUq6SQ",
        "outputId": "93f16ed2-c435-4b26-c28b-d1b5346788c5",
        "colab": {
          "base_uri": "https://localhost:8080/"
        }
      },
      "execution_count": 2,
      "outputs": [
        {
          "output_type": "stream",
          "name": "stdout",
          "text": [
            "0\n",
            "2\n",
            "4\n",
            "6\n",
            "8\n",
            "10\n",
            "12\n",
            "14\n",
            "16\n",
            "18\n",
            "20\n"
          ]
        }
      ]
    },
    {
      "cell_type": "markdown",
      "source": [
        "## For-Loops with Lists"
      ],
      "metadata": {
        "id": "ghRg1MRwoXvD"
      }
    },
    {
      "cell_type": "code",
      "source": [
        "# Use this list in the exercises below\n",
        "\n",
        "mylist = [9, 15, 23, 4, 92, 47, 33, 17, -4, 18, 38, -242]"
      ],
      "metadata": {
        "id": "G0PaWRBuoZdQ"
      },
      "execution_count": 3,
      "outputs": []
    },
    {
      "cell_type": "code",
      "source": [
        "# Write a command to print out all the values of this list\n",
        "# EXCEPT for any negative values. Omit them from the printing.\n",
        "\n",
        "for n in mylist:\n",
        "  if n >= 0:\n",
        "    print(n)\n"
      ],
      "metadata": {
        "id": "hzoe9vw3phWs"
      },
      "execution_count": null,
      "outputs": []
    },
    {
      "cell_type": "code",
      "source": [
        "# Repeat the command from above, but this time get\n",
        "# the absolute value of any negative values in the list\n",
        "# and print those with the other items.\n",
        "\n",
        "for n in mylist:\n",
        "  if n >= 0:\n",
        "    print(n)\n",
        "  if n < 0:\n",
        "    print(n * -1)"
      ],
      "metadata": {
        "id": "IE1-XLNrpnvy"
      },
      "execution_count": null,
      "outputs": []
    },
    {
      "cell_type": "code",
      "source": [
        "# Similar to above, write a command to print out items in\n",
        "# the list but omit any values greater than 20 and less than 40.\n",
        "\n",
        "for n in mylist:\n",
        "  if (n <= 20) or (n >= 40):\n",
        "    print(n)"
      ],
      "metadata": {
        "id": "rC38pZowp4LX",
        "outputId": "e23f3750-2d44-4239-8a8a-ad5fb1348739",
        "colab": {
          "base_uri": "https://localhost:8080/"
        }
      },
      "execution_count": 6,
      "outputs": [
        {
          "output_type": "stream",
          "name": "stdout",
          "text": [
            "9\n",
            "15\n",
            "4\n",
            "92\n",
            "47\n",
            "17\n",
            "-4\n",
            "18\n",
            "-242\n"
          ]
        }
      ]
    },
    {
      "cell_type": "markdown",
      "source": [
        "## For-Loops with Dictionaries"
      ],
      "metadata": {
        "id": "BD1Wg4oSSEdz"
      }
    },
    {
      "cell_type": "code",
      "source": [
        "capitals = {'United States':'Washington DC',\n",
        "          'Italy':'Rome',\n",
        "          'England':'London',\n",
        "          'Thailand':'Bangkok',\n",
        "          'Brazil':'Brasilia'}"
      ],
      "metadata": {
        "id": "9DpHR_WzSGA8"
      },
      "execution_count": 7,
      "outputs": []
    },
    {
      "cell_type": "code",
      "source": [
        "# Write a command to print out all the keys of this dict\n",
        "for c in capitals:\n",
        "  print(c)"
      ],
      "metadata": {
        "id": "Iy_i6RE3S1ta",
        "outputId": "a51c595c-7b29-48e7-a8c2-73f6f8bb7d35",
        "colab": {
          "base_uri": "https://localhost:8080/"
        }
      },
      "execution_count": 14,
      "outputs": [
        {
          "output_type": "stream",
          "name": "stdout",
          "text": [
            "United States\n",
            "Italy\n",
            "England\n",
            "Thailand\n",
            "Brazil\n"
          ]
        }
      ]
    },
    {
      "cell_type": "code",
      "source": [
        "# Write a command to print out all the values of this dict\n",
        "for c in capitals:\n",
        "  print(capitals[c])"
      ],
      "metadata": {
        "id": "eYNBRQAsS95v",
        "outputId": "6fa51f95-d935-470f-ab26-60280dbaa98b",
        "colab": {
          "base_uri": "https://localhost:8080/"
        }
      },
      "execution_count": 11,
      "outputs": [
        {
          "output_type": "stream",
          "name": "stdout",
          "text": [
            "Washington DC\n",
            "Rome\n",
            "London\n",
            "Bangkok\n",
            "Brasilia\n"
          ]
        }
      ]
    },
    {
      "cell_type": "code",
      "source": [
        "# Write a command to print all the keys and values for this dict\n",
        "for c in capitals:\n",
        "  print(capitals[c] + ', ' + c)\n"
      ],
      "metadata": {
        "id": "b1KYFdDxSH7X",
        "outputId": "5b5346d0-4e5a-42d2-8cd8-f4ee65c98de3",
        "colab": {
          "base_uri": "https://localhost:8080/"
        }
      },
      "execution_count": 15,
      "outputs": [
        {
          "output_type": "stream",
          "name": "stdout",
          "text": [
            "Washington DC, United States\n",
            "Rome, Italy\n",
            "London, England\n",
            "Bangkok, Thailand\n",
            "Brasilia, Brazil\n"
          ]
        }
      ]
    },
    {
      "cell_type": "code",
      "source": [
        "# Write a command to print only the first three values and NOTHING more.\n",
        "for c in capitals:\n",
        "  if c == 'Thailand':\n",
        "    break\n",
        "  print(capitals[c])\n"
      ],
      "metadata": {
        "id": "pun10Fq2oonQ",
        "outputId": "18223d62-3b6b-4fdb-e6e4-115a628bec84",
        "colab": {
          "base_uri": "https://localhost:8080/"
        }
      },
      "execution_count": 16,
      "outputs": [
        {
          "output_type": "stream",
          "name": "stdout",
          "text": [
            "Washington DC\n",
            "Rome\n",
            "London\n"
          ]
        }
      ]
    }
  ]
}