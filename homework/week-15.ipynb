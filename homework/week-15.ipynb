{
  "nbformat": 4,
  "nbformat_minor": 0,
  "metadata": {
    "colab": {
      "provenance": [],
      "include_colab_link": true
    },
    "kernelspec": {
      "name": "ir",
      "display_name": "R"
    },
    "language_info": {
      "name": "R"
    }
  },
  "cells": [
    {
      "cell_type": "markdown",
      "metadata": {
        "id": "view-in-github",
        "colab_type": "text"
      },
      "source": [
        "<a href=\"https://colab.research.google.com/github/sheptrundle/ds1002-dvf5rd/blob/main/homework/week-15.ipynb\" target=\"_parent\"><img src=\"https://colab.research.google.com/assets/colab-badge.svg\" alt=\"Open In Colab\"/></a>"
      ]
    },
    {
      "cell_type": "markdown",
      "source": [
        "# Homework - Week 15\n",
        "\n",
        "Complete the following blocks as specified in the directions. Run each cell to return the desired output. Save your notebook back to your GitHub repository and submit the GitHub URL to your notebook for review."
      ],
      "metadata": {
        "id": "sZruw3XQogej"
      }
    },
    {
      "cell_type": "markdown",
      "source": [
        "## 1. Create Functions (4 pts)\n",
        "\n",
        "Create two functions in the cells below, according to the prompts given."
      ],
      "metadata": {
        "id": "lkaofBQypx1X"
      }
    },
    {
      "cell_type": "code",
      "source": [
        "# create a function in R that:\n",
        "#   1. takes a single integer as an input parameter\n",
        "#   2. determines whether the integer is even or odd\n",
        "#   3. returns a character statement \"The integer <x> is even\" or \"The integer <x> is odd\" (replace <x> with the actual input provided)\n",
        "#\n",
        "# then execute the function twice using two different input values, displaying even and odd results.\n",
        "\n",
        "odd_or_even <- function(int){\n",
        "  if (int%%2 == 0){print(paste('The integer', int,'is even'))}\n",
        "  else {print(paste('The integer',int,'is odd'))}\n",
        "}\n",
        "\n",
        "odd_or_even(10)\n",
        "odd_or_even(11)\n"
      ],
      "metadata": {
        "id": "1fjq5bkEp6Zv",
        "outputId": "44ab38a4-164b-4130-ebb8-7665314cda12",
        "colab": {
          "base_uri": "https://localhost:8080/"
        }
      },
      "execution_count": 23,
      "outputs": [
        {
          "output_type": "stream",
          "name": "stdout",
          "text": [
            "[1] \"The integer 10 is even\"\n",
            "[1] \"The integer 11 is odd\"\n"
          ]
        }
      ]
    },
    {
      "cell_type": "code",
      "source": [
        "# create a function in R that:\n",
        "#   1. takes 4 integer input parameters\n",
        "#   2. returns the mean value of the inputs\n",
        "#   3. has default values for the 4 input parameters, in case they are not provided when the function is called.\n",
        "#\n",
        "# then execute the function twice: once where you provide the input values, and once where you do not.\n",
        "\n",
        "average <- function(a=1,b=2,c=3,d=4){\n",
        "mean = (a+b+c+d)/4\n",
        "return(mean)\n",
        "}\n",
        "\n",
        "average(50,75,75,100)\n",
        "average()"
      ],
      "metadata": {
        "id": "f3IFD-T6p6Rd",
        "outputId": "5e1e0424-9563-4987-8095-09c96d8de7d5",
        "colab": {
          "base_uri": "https://localhost:8080/",
          "height": 52
        }
      },
      "execution_count": 28,
      "outputs": [
        {
          "output_type": "display_data",
          "data": {
            "text/html": [
              "75"
            ],
            "text/markdown": "75",
            "text/latex": "75",
            "text/plain": [
              "[1] 75"
            ]
          },
          "metadata": {}
        },
        {
          "output_type": "display_data",
          "data": {
            "text/html": [
              "2.5"
            ],
            "text/markdown": "2.5",
            "text/latex": "2.5",
            "text/plain": [
              "[1] 2.5"
            ]
          },
          "metadata": {}
        }
      ]
    },
    {
      "cell_type": "markdown",
      "source": [
        "## 2. Plot Data (4 pts)"
      ],
      "metadata": {
        "id": "F6Rx0GIGrpOB"
      }
    },
    {
      "cell_type": "markdown",
      "source": [
        "In the cell below, write the code required to plot from the `msleep` sample data set.\n",
        "\n",
        "1. Display only animals with body weights of 30 or greater.\n",
        "2. Group the animals by `order`.\n",
        "3. Display the mean `sleep_total` for each group in a bar plot."
      ],
      "metadata": {
        "id": "IDLyOjOJsFCX"
      }
    },
    {
      "cell_type": "code",
      "source": [
        "install.packages('tidyverse')\n",
        "library(tidyverse)\n",
        "library(ggplot2)\n",
        "install.packages('gapminder')\n",
        "library(gapminder)"
      ],
      "metadata": {
        "id": "NlUWBCVHUNFK"
      },
      "execution_count": null,
      "outputs": []
    },
    {
      "cell_type": "code",
      "source": [
        "msleep %>%\n",
        "  filter(bodywt >= 30) %>%\n",
        "  arrange(order)\n",
        "\n",
        "avg <- msleep %>%\n",
        "  filter(bodywt >= 30) %>%\n",
        "  group_by(order) %>%\n",
        "  summarize(avg_sleep = mean(sleep_total))\n",
        "\n",
        "ggplot(avg, aes(x = order, y = avg_sleep, fill = order)) +\n",
        "  geom_bar(stat = \"identity\")\n",
        "\n",
        "#i mightve totally overcomplicated this but using ggplot was the only was I could get a barplot to work\n",
        "\n"
      ],
      "metadata": {
        "id": "aT51o7oTUcOJ"
      },
      "execution_count": null,
      "outputs": []
    },
    {
      "cell_type": "markdown",
      "source": [
        "## 3. Clean and Analyze Data Using R (4 pts)\n",
        "\n",
        "In the cells below use R to perform the following data cleaning steps on this file:\n",
        "https://raw.githubusercontent.com/nmagee/ds1002/main/data/social-media-users.csv\n",
        "\n",
        "1. Remove any duplicate rows.\n",
        "2. Remove any records where `last_login` or `birthdate` are empty.\n",
        "3. Display only the records with the 10 highest `follower` counts.\n",
        "4. Determine counts of users when grouped by continent."
      ],
      "metadata": {
        "id": "-2ZaFcCCv3o8"
      }
    },
    {
      "cell_type": "code",
      "source": [
        "df <- read.csv('https://raw.githubusercontent.com/nmagee/ds1002/main/data/social-media-users.csv')"
      ],
      "metadata": {
        "id": "V4nBsdVsyauQ"
      },
      "execution_count": 80,
      "outputs": []
    },
    {
      "cell_type": "code",
      "source": [
        "df2 <- df[!duplicated(df), ]"
      ],
      "metadata": {
        "id": "ggAgTdr2flnj"
      },
      "execution_count": 82,
      "outputs": []
    },
    {
      "cell_type": "code",
      "source": [
        "df3 <- df2 %>% drop_na(last_login, birthdate)"
      ],
      "metadata": {
        "id": "LwXD1sNulIT3"
      },
      "execution_count": 83,
      "outputs": []
    },
    {
      "cell_type": "code",
      "source": [
        "df3 %>%\n",
        "  arrange(desc(followers)) %>%\n",
        "  head(10)\n"
      ],
      "metadata": {
        "id": "7qa100btlI4Z"
      },
      "execution_count": null,
      "outputs": []
    },
    {
      "cell_type": "code",
      "source": [
        "df3 %>%\n",
        "  group_by(continent) %>%\n",
        "  summarize(user_count = n())"
      ],
      "metadata": {
        "id": "MjrZisnxlJUa",
        "outputId": "1062ce10-39c6-4185-861b-e59344c27d8d",
        "colab": {
          "base_uri": "https://localhost:8080/",
          "height": 318
        }
      },
      "execution_count": 89,
      "outputs": [
        {
          "output_type": "display_data",
          "data": {
            "text/html": [
              "<table class=\"dataframe\">\n",
              "<caption>A tibble: 7 × 2</caption>\n",
              "<thead>\n",
              "\t<tr><th scope=col>continent</th><th scope=col>user_count</th></tr>\n",
              "\t<tr><th scope=col>&lt;chr&gt;</th><th scope=col>&lt;int&gt;</th></tr>\n",
              "</thead>\n",
              "<tbody>\n",
              "\t<tr><td>AF</td><td>103</td></tr>\n",
              "\t<tr><td>AN</td><td>  1</td></tr>\n",
              "\t<tr><td>AS</td><td>182</td></tr>\n",
              "\t<tr><td>EU</td><td>127</td></tr>\n",
              "\t<tr><td>OC</td><td>148</td></tr>\n",
              "\t<tr><td>SA</td><td> 92</td></tr>\n",
              "\t<tr><td>NA</td><td>347</td></tr>\n",
              "</tbody>\n",
              "</table>\n"
            ],
            "text/markdown": "\nA tibble: 7 × 2\n\n| continent &lt;chr&gt; | user_count &lt;int&gt; |\n|---|---|\n| AF | 103 |\n| AN |   1 |\n| AS | 182 |\n| EU | 127 |\n| OC | 148 |\n| SA |  92 |\n| NA | 347 |\n\n",
            "text/latex": "A tibble: 7 × 2\n\\begin{tabular}{ll}\n continent & user\\_count\\\\\n <chr> & <int>\\\\\n\\hline\n\t AF & 103\\\\\n\t AN &   1\\\\\n\t AS & 182\\\\\n\t EU & 127\\\\\n\t OC & 148\\\\\n\t SA &  92\\\\\n\t NA & 347\\\\\n\\end{tabular}\n",
            "text/plain": [
              "  continent user_count\n",
              "1 AF        103       \n",
              "2 AN          1       \n",
              "3 AS        182       \n",
              "4 EU        127       \n",
              "5 OC        148       \n",
              "6 SA         92       \n",
              "7 NA        347       "
            ]
          },
          "metadata": {}
        }
      ]
    }
  ]
}