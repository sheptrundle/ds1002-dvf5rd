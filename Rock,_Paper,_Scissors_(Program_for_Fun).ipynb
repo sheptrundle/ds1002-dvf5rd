{
  "cells": [
    {
      "cell_type": "markdown",
      "metadata": {
        "id": "view-in-github",
        "colab_type": "text"
      },
      "source": [
        "<a href=\"https://colab.research.google.com/github/sheptrundle/ds1002-dvf5rd/blob/main/Rock%2C_Paper%2C_Scissors_(Program_for_Fun).ipynb\" target=\"_parent\"><img src=\"https://colab.research.google.com/assets/colab-badge.svg\" alt=\"Open In Colab\"/></a>"
      ]
    },
    {
      "cell_type": "code",
      "source": [
        "launch = input('Rock, Paper, Scissors. Enter \"play\" to begin: ')\n",
        "score1 = 0\n",
        "score2 = 0\n",
        "if launch.lower() == 'play':\n",
        "  game_end = input('What score would you like to play to? ')\n",
        "  while score1 < int(game_end) and score2 < int(game_end):\n",
        "    one = input('Player one go: ').lower()\n",
        "    two = input('Player two go: ').lower()\n",
        "    if one == two:\n",
        "      print('Tie')\n",
        "      print('P1 score(' + str(score1) + ') vs P2 score(' + str(score2) + ')')\n",
        "    elif one == 'rock' and two == 'scissors':\n",
        "      print('Player one wins!')\n",
        "      score1 += 1\n",
        "      print('P1 score(' + str(score1) + ') vs P2 score(' + str(score2) + ')')\n",
        "    elif one == 'scissors' and two == 'paper':\n",
        "      print('Player one wins!')\n",
        "      score1 += 1\n",
        "      print('P1 score(' + str(score1) + ') vs P2 score(' + str(score2) + ')')\n",
        "    elif one == 'paper' and two == 'rock':\n",
        "      print('Player one wins!')\n",
        "      score1 += 1\n",
        "      print('P1 score(' + str(score1) + ') vs P2 score(' + str(score2) + ')')\n",
        "    elif two == 'rock' and one == 'scissors':\n",
        "      print('Player two wins!')\n",
        "      score2 += 1\n",
        "      print('P1 score(' + str(score1) + ') vs P2 score(' + str(score2) + ')')\n",
        "    elif two == 'scissors' and one == 'paper':\n",
        "      print('Player two wins!')\n",
        "      score2 += 1\n",
        "      print('P1 score(' + str(score1) + ') vs P2 score(' + str(score2) + ')')\n",
        "    elif two == 'paper' and one == 'rock':\n",
        "      print('Player two wins!')\n",
        "      score2 += 1\n",
        "      print('P1 score(' + str(score1) + ') vs P2 score(' + str(score2) + ')')\n",
        "    else:\n",
        "      print('Unknown Command, please use \"rock\", \"paper\", or \"scissors\"')\n",
        "  if score1 > score2:\n",
        "    print('Player 1 wins, final score ' + str(score1) + '-' + str(score2))\n",
        "  if score2 > score1:\n",
        "    print('Player 2 wins, final score ' + str(score2) + '-' + str(score1))\n",
        "else:\n",
        "  print('Unknown Command')"
      ],
      "metadata": {
        "id": "FrzreIAZDgPz"
      },
      "execution_count": null,
      "outputs": []
    }
  ],
  "metadata": {
    "colab": {
      "provenance": [],
      "toc_visible": true,
      "include_colab_link": true
    },
    "kernelspec": {
      "display_name": "Python 3",
      "name": "python3"
    },
    "language_info": {
      "codemirror_mode": {
        "name": "ipython",
        "version": 3
      },
      "file_extension": ".py",
      "mimetype": "text/x-python",
      "name": "python",
      "nbconvert_exporter": "python",
      "pygments_lexer": "ipython3",
      "version": "3.9.6"
    }
  },
  "nbformat": 4,
  "nbformat_minor": 0
}