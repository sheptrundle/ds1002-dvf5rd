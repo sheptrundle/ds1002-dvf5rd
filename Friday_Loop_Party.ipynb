{
  "nbformat": 4,
  "nbformat_minor": 0,
  "metadata": {
    "colab": {
      "provenance": [],
      "authorship_tag": "ABX9TyNfzV53qA/8jBy71zm8hkST",
      "include_colab_link": true
    },
    "kernelspec": {
      "name": "python3",
      "display_name": "Python 3"
    },
    "language_info": {
      "name": "python"
    }
  },
  "cells": [
    {
      "cell_type": "markdown",
      "metadata": {
        "id": "view-in-github",
        "colab_type": "text"
      },
      "source": [
        "<a href=\"https://colab.research.google.com/github/sheptrundle/ds1002-dvf5rd/blob/main/Friday_Loop_Party.ipynb\" target=\"_parent\"><img src=\"https://colab.research.google.com/assets/colab-badge.svg\" alt=\"Open In Colab\"/></a>"
      ]
    },
    {
      "cell_type": "code",
      "execution_count": null,
      "metadata": {
        "id": "IvmGFG68VxpL"
      },
      "outputs": [],
      "source": [
        "num = [1234, 4, 2, 22, 11, 9, 38383]\n",
        "for n in num:\n",
        "    print(n)"
      ]
    },
    {
      "cell_type": "code",
      "source": [
        "grub = ['bagels', 'cereal', 'yogurt', 'coffee', 'eggs', 'pancakes', 'waffles', 'syrups']\n",
        "for t in grub:\n",
        "  if t == 'eggs':\n",
        "    #print('EGGS')\n",
        "    continue\n",
        "  elif t == 'yogurt':\n",
        "    print('YOGURT')\n",
        "  elif t == 'lasagna':\n",
        "    print('Friday Loop Party')\n",
        "  else:\n",
        "    print(t)"
      ],
      "metadata": {
        "id": "_yGIVJkeWdPy"
      },
      "execution_count": null,
      "outputs": []
    },
    {
      "cell_type": "code",
      "source": [
        "fav = {\n",
        "    'food':'tacos',\n",
        "    'sport':'basketball',\n",
        "    'color':'white',\n",
        "    'car':'crv',\n",
        "    'city':'kathmandu'\n",
        "}\n",
        "fav\n"
      ],
      "metadata": {
        "id": "qun2SmEAZIOh"
      },
      "execution_count": null,
      "outputs": []
    },
    {
      "cell_type": "code",
      "source": [
        "fav.keys()"
      ],
      "metadata": {
        "id": "fdxqiOsSaHP2"
      },
      "execution_count": null,
      "outputs": []
    },
    {
      "cell_type": "code",
      "source": [
        "for f in fav:\n",
        "  print(fav[f])"
      ],
      "metadata": {
        "id": "2cHlhKi1aIlD"
      },
      "execution_count": null,
      "outputs": []
    },
    {
      "cell_type": "code",
      "source": [
        "for key, value in fav.items():\n",
        "  print(key, '--->', value)"
      ],
      "metadata": {
        "id": "GRM66T5Obkmg"
      },
      "execution_count": null,
      "outputs": []
    },
    {
      "cell_type": "code",
      "source": [
        "mytupe = ('squirrel','rabbit','beaver','opposum','fox','wolf','sheep')\n",
        "for thing in mytupe:\n",
        "  if (thing != 'opposum') and (thing == 'rabbit'):\n",
        "    print(thing)\n",
        "  elif (thing == 'rabbit') or (thing == 'sheep'):\n",
        "    print('r and s are correct')"
      ],
      "metadata": {
        "id": "lsFsnvZMc5Le"
      },
      "execution_count": null,
      "outputs": []
    }
  ]
}